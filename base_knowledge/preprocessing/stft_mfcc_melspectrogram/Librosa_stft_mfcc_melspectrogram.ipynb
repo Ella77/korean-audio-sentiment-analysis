{
 "cells": [
  {
   "cell_type": "markdown",
   "metadata": {},
   "source": [
    "*`LibROSA`* 라는 audio package가 가진 stft, mfcc, melspectrogram 을 이용해서 피쳐(feature)를 추출해봅시다!\n",
    "\n",
    "* `LibROSA`란?\n",
    "* `LibROSA`를 이용한 stft, mfcc, melspectrogram\n",
    "\n",
    "순서로 진행하겠습니다.\n",
    "\n",
    "*참고자료는 이 주피터파일의 마지막에 정리되어있습니다.*"
   ]
  },
  {
   "cell_type": "markdown",
   "metadata": {},
   "source": [
    "## `LibROSA`란?\n",
    "\n",
    "`LibROSA`는 음악 및 오디오 분석 파이썬 패키지입니다. 음악 정보 검색 시스템을 만드는 데 필요한 구성 요소를 제공합니다."
   ]
  },
  {
   "cell_type": "markdown",
   "metadata": {},
   "source": [
    "## LibROSA를 이용한 stft, mfcc, melspectrogram\n",
    "\n",
    "지난 시간에 audio recognition, audio classification을 위해서 여러가지 feature를 추출하는 방법에 대한 이론을 훑었습니다. ~~눈에 보이는 것도 이해 못하겠는데 자꾸 주파수 얘기, 달팽이관 얘기 나와서 그만하고 싶었었죠~~\n",
    "\n",
    "하지만 이번에는 직접 `LibROSA` 패키지를 사용해보면서 이해해보도록 하겠습니다. 전 이게 더 이해하기 쉬울 거라고 믿고있습니다. 제발 🙏"
   ]
  },
  {
   "cell_type": "markdown",
   "metadata": {},
   "source": [
    "## Audio 파일 로드(load)\n",
    "\n",
    "다들 아시다시피 Computer Vision, NLP, Speech Recognition 그 어떤 분야도 데이터 로드하지 않고서는 아무 것도 할 수 없습니다.\n",
    "그래서 feature 추출 전에 저는 **librosa.core.load** 라는 함수로 mp3 또는 wav 파일을 로드하는 법부터 시작해보겠습니다.\n",
    "\n",
    "오늘도 역시 예시 데이터는 트와이스입니다."
   ]
  },
  {
   "cell_type": "code",
   "execution_count": 4,
   "metadata": {},
   "outputs": [
    {
     "ename": "ImportError",
     "evalue": "No module named 'librosa'",
     "output_type": "error",
     "traceback": [
      "\u001b[0;31m---------------------------------------------------------------------------\u001b[0m",
      "\u001b[0;31mImportError\u001b[0m                               Traceback (most recent call last)",
      "\u001b[0;32m<ipython-input-4-40bcec886121>\u001b[0m in \u001b[0;36m<module>\u001b[0;34m\u001b[0m\n\u001b[0;32m----> 1\u001b[0;31m \u001b[0;32mimport\u001b[0m \u001b[0mlibrosa\u001b[0m\u001b[0;34m\u001b[0m\u001b[0m\n\u001b[0m\u001b[1;32m      2\u001b[0m \u001b[0my\u001b[0m\u001b[0;34m,\u001b[0m \u001b[0msr\u001b[0m \u001b[0;34m=\u001b[0m \u001b[0mlibrosa\u001b[0m\u001b[0;34m.\u001b[0m\u001b[0mload\u001b[0m\u001b[0;34m(\u001b[0m\u001b[0;34m)\u001b[0m\u001b[0;34m\u001b[0m\u001b[0m\n",
      "\u001b[0;31mImportError\u001b[0m: No module named 'librosa'"
     ]
    }
   ],
   "source": [
    "import librosa\n",
    "y, sr = librosa.load()"
   ]
  },
  {
   "cell_type": "markdown",
   "metadata": {},
   "source": [
    "코드 한 줄이면 파일을 로드할 수 있고, 여러가지 arguments가 있으므로 그것들을 훑어보겠습니다.\n",
    "\n",
    "### Arguemnts\n",
    "\n",
    "\n",
    "**1. path    :** 입력 파일 경로(path)\n",
    "\n",
    "**2. sr      :** Sampling rate, default=22050\n",
    "> `sampling rate`란 오디오(입력 파일)를 쪼개는 기준이라고 생각하면 되는데, 비율(rate)로 표현을 하므로 **1초당 샘플(sample)의 빈도 수**를 의미한다. 만약 Sampling rate를 22.05KHz로 설정했다면 이것은 1초당 22050개의 샘플이 있다는 것이다.\n",
    ">\n",
    "> 그런데 왜 샘플을 쪼갤까?\n",
    "\n",
    "**3.mono     :** 신호를 모노로 할 것인지 아닌지\n",
    "> 아주 간단한 argument이다. `mono`로 하고 싶으면 True, 아니면 False 하면 된다.\n",
    ">\n",
    "> 그런데 `mono`가 뭔지 알아야 쓰는데,~~제가 아는건 momo 뿐! 모모링🍑~~ `mono`는 채널과 관련있습니다. `mono`는 채널 1개로 이루어져 있을 때를 말합니다. \n",
    "> 그렇다면 채널은 무엇일까요? ~~꼬리에 꼬리를 무는게 영원히 공부가 끝나지 않을 것 같습니다..~~ 소리가 모여서 채널을 표현한다고 생각하면 이해가 쉬울 것 같습니다. 2채널이라면 소리 데이터가 왼쪽(L), 오른쪽(R) 각각 소리를 표현하고 있다는 것이고, 1채널이라면 왼쪽(L), 오른쪽(R)이 복사본이라고 합니다.\n",
    "\n",
    "**4.offset   :** 파일을 해당 오프셋부터 읽는다, default=0.0\n",
    "> 처음이 아니라 중간 원하는 지점부터 파일을 읽으려면 `offset`을 설정하면 됩니다.\n",
    "\n",
    "**5.duration :** 파일을 원하는 만큼 읽는다.\n",
    "> 총 5초인 파일 중 offset을 0.0, duration을 2로 설정한다면 2초까지만 파일을 로드합니다.\n",
    "\n",
    "**6.dtype    :** 파일의 데이터 타입\n",
    "\n",
    "**7.res_type :** resample 타입\n",
    "\n",
    "\n",
    "### Returns\n",
    "\n",
    "**1. y       :** 오디오 객체\n",
    "\n",
    "**2. sr      :** Sampling rate"
   ]
  },
  {
   "cell_type": "markdown",
   "metadata": {},
   "source": [
    "## 참고자료\n",
    "\n",
    "\n",
    "> [LibROSA](https://librosa.github.io/librosa/)\n",
    ">\n",
    "> [음성/음악신호+머신러닝 초심자를 위한 가이드 [1편]](http://keunwoochoi.blogspot.com/2016/01/blog-post.html)\n",
    ">\n",
    "> [오디오 용어 설명(sampling rate, bit rate, channels...)](http://blog.naver.com/PostView.nhn?blogId=kimyoseob&logNo=220760163474)\n",
    ">\n",
    "> [Mono(모노)와 Stereo(스테레오)](https://m.blog.naver.com/PostView.nhn?blogId=ziokami&logNo=220362290243&proxyReferer=https%3A%2F%2Fwww.google.com%2F)"
   ]
  },
  {
   "cell_type": "code",
   "execution_count": null,
   "metadata": {},
   "outputs": [],
   "source": []
  }
 ],
 "metadata": {
  "kernelspec": {
   "display_name": "Python 3",
   "language": "python",
   "name": "python3"
  },
  "language_info": {
   "codemirror_mode": {
    "name": "ipython",
    "version": 3
   },
   "file_extension": ".py",
   "mimetype": "text/x-python",
   "name": "python",
   "nbconvert_exporter": "python",
   "pygments_lexer": "ipython3",
   "version": "3.5.6"
  }
 },
 "nbformat": 4,
 "nbformat_minor": 2
}
